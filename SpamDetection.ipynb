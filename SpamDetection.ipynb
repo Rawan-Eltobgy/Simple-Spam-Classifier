{
 "cells": [
  {
   "cell_type": "markdown",
   "metadata": {
    "deletable": true,
    "editable": true
   },
   "source": [
    "# Naive Bayes (Mail Spam Classification)"
   ]
  },
  {
   "cell_type": "code",
   "execution_count": 1,
   "metadata": {
    "collapsed": false,
    "deletable": true,
    "editable": true
   },
   "outputs": [],
   "source": [
    "import os\n",
    "import io\n",
    "import numpy\n",
    "from pandas import DataFrame\n",
    "from sklearn.feature_extraction.text import CountVectorizer\n",
    "from sklearn.naive_bayes import MultinomialNB\n",
    "from sklearn.model_selection import train_test_split\n",
    "\n",
    "def readFiles(path):\n",
    "    for root, dirnames, filenames in os.walk(path):\n",
    "        for filename in filenames:\n",
    "            path = os.path.join(root, filename)\n",
    "\n",
    "            inBody = False\n",
    "            lines = []\n",
    "            f = io.open(path, 'r', encoding='latin1')\n",
    "            for line in f:\n",
    "                if inBody:\n",
    "                    lines.append(line)\n",
    "                elif line == '\\n':\n",
    "                    inBody = True\n",
    "            f.close()\n",
    "            message = '\\n'.join(lines)\n",
    "            yield path, message\n",
    "\n",
    "\n",
    "def dataFrameFromDirectory(path, classification):\n",
    "    rows = []\n",
    "    index = []\n",
    "    for filename, message in readFiles(path):\n",
    "        rows.append({'message': message, 'class': classification})\n",
    "        index.append(filename)\n",
    "\n",
    "    return DataFrame(rows, index=index)\n",
    "\n",
    "data = DataFrame({'message': [], 'class': []})\n",
    "\n",
    "data = data.append(dataFrameFromDirectory('C:\\\\Users\\\\Eltobgy\\\\Downloads\\\\emails\\\\spam', 'spam'))\n",
    "data = data.append(dataFrameFromDirectory('C:\\\\Users\\\\Eltobgy\\\\Downloads\\\\emails\\\\ham', 'ham'))\n"
   ]
  },
  {
   "cell_type": "code",
   "execution_count": 2,
   "metadata": {
    "collapsed": false,
    "deletable": true,
    "editable": true
   },
   "outputs": [
    {
     "data": {
      "text/html": [
       "<div>\n",
       "<style>\n",
       "    .dataframe thead tr:only-child th {\n",
       "        text-align: right;\n",
       "    }\n",
       "\n",
       "    .dataframe thead th {\n",
       "        text-align: left;\n",
       "    }\n",
       "\n",
       "    .dataframe tbody tr th {\n",
       "        vertical-align: top;\n",
       "    }\n",
       "</style>\n",
       "<table border=\"1\" class=\"dataframe\">\n",
       "  <thead>\n",
       "    <tr style=\"text-align: right;\">\n",
       "      <th></th>\n",
       "      <th>class</th>\n",
       "      <th>message</th>\n",
       "    </tr>\n",
       "  </thead>\n",
       "  <tbody>\n",
       "    <tr>\n",
       "      <th>C:\\Users\\Eltobgy\\Downloads\\emails\\spam\\00001.7848dde101aa985090474a91ec93fcf0</th>\n",
       "      <td>spam</td>\n",
       "      <td>&lt;!DOCTYPE HTML PUBLIC \"-//W3C//DTD HTML 4.0 Tr...</td>\n",
       "    </tr>\n",
       "    <tr>\n",
       "      <th>C:\\Users\\Eltobgy\\Downloads\\emails\\spam\\00002.d94f1b97e48ed3b553b3508d116e6a09</th>\n",
       "      <td>spam</td>\n",
       "      <td>1) Fight The Risk of Cancer!\\n\\nhttp://www.adc...</td>\n",
       "    </tr>\n",
       "    <tr>\n",
       "      <th>C:\\Users\\Eltobgy\\Downloads\\emails\\spam\\00003.2ee33bc6eacdb11f38d052c44819ba6c</th>\n",
       "      <td>spam</td>\n",
       "      <td>1) Fight The Risk of Cancer!\\n\\nhttp://www.adc...</td>\n",
       "    </tr>\n",
       "    <tr>\n",
       "      <th>C:\\Users\\Eltobgy\\Downloads\\emails\\spam\\00004.eac8de8d759b7e74154f142194282724</th>\n",
       "      <td>spam</td>\n",
       "      <td>##############################################...</td>\n",
       "    </tr>\n",
       "    <tr>\n",
       "      <th>C:\\Users\\Eltobgy\\Downloads\\emails\\spam\\00005.57696a39d7d84318ce497886896bf90d</th>\n",
       "      <td>spam</td>\n",
       "      <td>I thought you might like these:\\n\\n1) Slim Dow...</td>\n",
       "    </tr>\n",
       "  </tbody>\n",
       "</table>\n",
       "</div>"
      ],
      "text/plain": [
       "                                                   class  \\\n",
       "C:\\Users\\Eltobgy\\Downloads\\emails\\spam\\00001.78...  spam   \n",
       "C:\\Users\\Eltobgy\\Downloads\\emails\\spam\\00002.d9...  spam   \n",
       "C:\\Users\\Eltobgy\\Downloads\\emails\\spam\\00003.2e...  spam   \n",
       "C:\\Users\\Eltobgy\\Downloads\\emails\\spam\\00004.ea...  spam   \n",
       "C:\\Users\\Eltobgy\\Downloads\\emails\\spam\\00005.57...  spam   \n",
       "\n",
       "                                                                                              message  \n",
       "C:\\Users\\Eltobgy\\Downloads\\emails\\spam\\00001.78...  <!DOCTYPE HTML PUBLIC \"-//W3C//DTD HTML 4.0 Tr...  \n",
       "C:\\Users\\Eltobgy\\Downloads\\emails\\spam\\00002.d9...  1) Fight The Risk of Cancer!\\n\\nhttp://www.adc...  \n",
       "C:\\Users\\Eltobgy\\Downloads\\emails\\spam\\00003.2e...  1) Fight The Risk of Cancer!\\n\\nhttp://www.adc...  \n",
       "C:\\Users\\Eltobgy\\Downloads\\emails\\spam\\00004.ea...  ##############################################...  \n",
       "C:\\Users\\Eltobgy\\Downloads\\emails\\spam\\00005.57...  I thought you might like these:\\n\\n1) Slim Dow...  "
      ]
     },
     "execution_count": 2,
     "metadata": {},
     "output_type": "execute_result"
    }
   ],
   "source": [
    "data.head()"
   ]
  },
  {
   "cell_type": "code",
   "execution_count": 3,
   "metadata": {
    "collapsed": false,
    "deletable": true,
    "editable": true,
    "scrolled": true
   },
   "outputs": [
    {
     "name": "stdout",
     "output_type": "stream",
     "text": [
      "  (0, 20104)\t1\n",
      "  (0, 15629)\t1\n",
      "  (0, 30882)\t1\n",
      "  (0, 50553)\t1\n",
      "  (0, 36099)\t1\n",
      "  (0, 44217)\t1\n",
      "  (0, 58467)\t1\n",
      "  (0, 51216)\t1\n",
      "  (0, 10966)\t1\n",
      "  (0, 47038)\t1\n",
      "  (0, 46816)\t1\n",
      "  (0, 54656)\t1\n",
      "  (0, 43219)\t2\n",
      "  (0, 16635)\t1\n",
      "  (0, 38953)\t1\n",
      "  (0, 14434)\t1\n",
      "  (0, 16777)\t1\n",
      "  (0, 36134)\t1\n",
      "  (0, 35030)\t1\n",
      "  (0, 46819)\t1\n",
      "  (0, 12870)\t1\n",
      "  (0, 58727)\t1\n",
      "  (0, 22787)\t1\n",
      "  (0, 22197)\t2\n",
      "  (0, 53337)\t2\n",
      "  :\t:\n",
      "  (2999, 12870)\t2\n",
      "  (2999, 53337)\t1\n",
      "  (2999, 24806)\t2\n",
      "  (2999, 28034)\t1\n",
      "  (2999, 10697)\t1\n",
      "  (2999, 40368)\t2\n",
      "  (2999, 40892)\t4\n",
      "  (2999, 15189)\t1\n",
      "  (2999, 39016)\t1\n",
      "  (2999, 30375)\t5\n",
      "  (2999, 58736)\t1\n",
      "  (2999, 26143)\t2\n",
      "  (2999, 55923)\t1\n",
      "  (2999, 47451)\t1\n",
      "  (2999, 53220)\t12\n",
      "  (2999, 10746)\t5\n",
      "  (2999, 56678)\t1\n",
      "  (2999, 31369)\t6\n",
      "  (2999, 27728)\t5\n",
      "  (2999, 60793)\t6\n",
      "  (2999, 37734)\t1\n",
      "  (2999, 40661)\t4\n",
      "  (2999, 53745)\t6\n",
      "  (2999, 14755)\t1\n",
      "  (2999, 28855)\t1\n"
     ]
    },
    {
     "data": {
      "text/plain": [
       "MultinomialNB(alpha=1.0, class_prior=None, fit_prior=True)"
      ]
     },
     "execution_count": 3,
     "metadata": {},
     "output_type": "execute_result"
    }
   ],
   "source": [
    "#Convert a collection of text documents to a matrix of token counts.\n",
    "vectorizer = CountVectorizer()\n",
    "\n",
    "counts = vectorizer.fit_transform(data['message'].values)\n",
    "print(counts)\n",
    "classifier = MultinomialNB()\n",
    "targets = data['class'].values\n",
    "classifier.fit(counts, targets)"
   ]
  },
  {
   "cell_type": "markdown",
   "metadata": {
    "deletable": true,
    "editable": true
   },
   "source": [
    "Let's try it out:"
   ]
  },
  {
   "cell_type": "code",
   "execution_count": 4,
   "metadata": {
    "collapsed": false,
    "deletable": true,
    "editable": true
   },
   "outputs": [
    {
     "data": {
      "text/plain": [
       "array(['spam', 'ham'],\n",
       "      dtype='<U4')"
      ]
     },
     "execution_count": 4,
     "metadata": {},
     "output_type": "execute_result"
    }
   ],
   "source": [
    "examples = ['Free Credit now!!!', \"Hi Bob, how about a game of golf tomorrow?\"]\n",
    "example_counts = vectorizer.transform(examples)\n",
    "predictions = classifier.predict(example_counts)\n",
    "predictions"
   ]
  },
  {
   "cell_type": "markdown",
   "metadata": {
    "deletable": true,
    "editable": true
   },
   "source": [
    "## Dividing it to test ad training sets."
   ]
  },
  {
   "cell_type": "markdown",
   "metadata": {
    "deletable": true,
    "editable": true
   },
   "source": [
    "Our data set is small, so our spam classifier isn't actually very good. Try running some different test emails through it and see if you get the results you expect.\n",
    "\n",
    "If you really want to challenge yourself, try applying train/test to this spam classifier - see how well it can predict some subset of the ham and spam emails."
   ]
  },
  {
   "cell_type": "code",
   "execution_count": 5,
   "metadata": {
    "collapsed": false,
    "deletable": true,
    "editable": true
   },
   "outputs": [],
   "source": [
    "df = DataFrame()\n",
    "train=data.sample(frac=0.8,random_state=20)\n",
    "test=data.drop(train.index)"
   ]
  },
  {
   "cell_type": "code",
   "execution_count": 6,
   "metadata": {
    "collapsed": false
   },
   "outputs": [
    {
     "name": "stdout",
     "output_type": "stream",
     "text": [
      "                                                   class  \\\n",
      "C:\\Users\\Eltobgy\\Downloads\\emails\\ham\\02055.80f...   ham   \n",
      "C:\\Users\\Eltobgy\\Downloads\\emails\\ham\\00263.6be...   ham   \n",
      "C:\\Users\\Eltobgy\\Downloads\\emails\\spam\\00033.9b...  spam   \n",
      "C:\\Users\\Eltobgy\\Downloads\\emails\\ham\\01566.d38...   ham   \n",
      "C:\\Users\\Eltobgy\\Downloads\\emails\\ham\\02393.fd8...   ham   \n",
      "C:\\Users\\Eltobgy\\Downloads\\emails\\ham\\02062.c7e...   ham   \n",
      "C:\\Users\\Eltobgy\\Downloads\\emails\\spam\\00413.28...  spam   \n",
      "C:\\Users\\Eltobgy\\Downloads\\emails\\ham\\02261.cb1...   ham   \n",
      "C:\\Users\\Eltobgy\\Downloads\\emails\\spam\\00432.40...  spam   \n",
      "C:\\Users\\Eltobgy\\Downloads\\emails\\ham\\01990.39a...   ham   \n",
      "C:\\Users\\Eltobgy\\Downloads\\emails\\spam\\00313.fa...  spam   \n",
      "C:\\Users\\Eltobgy\\Downloads\\emails\\spam\\00251.6b...  spam   \n",
      "C:\\Users\\Eltobgy\\Downloads\\emails\\ham\\00900.04d...   ham   \n",
      "C:\\Users\\Eltobgy\\Downloads\\emails\\ham\\00886.6d7...   ham   \n",
      "C:\\Users\\Eltobgy\\Downloads\\emails\\ham\\00766.9ac...   ham   \n",
      "C:\\Users\\Eltobgy\\Downloads\\emails\\ham\\00658.b99...   ham   \n",
      "C:\\Users\\Eltobgy\\Downloads\\emails\\ham\\02400.e03...   ham   \n",
      "C:\\Users\\Eltobgy\\Downloads\\emails\\ham\\01623.e4e...   ham   \n",
      "C:\\Users\\Eltobgy\\Downloads\\emails\\spam\\00345.61...  spam   \n",
      "C:\\Users\\Eltobgy\\Downloads\\emails\\ham\\01514.503...   ham   \n",
      "C:\\Users\\Eltobgy\\Downloads\\emails\\ham\\01166.8ab...   ham   \n",
      "C:\\Users\\Eltobgy\\Downloads\\emails\\ham\\02182.eca...   ham   \n",
      "C:\\Users\\Eltobgy\\Downloads\\emails\\ham\\01455.6f5...   ham   \n",
      "C:\\Users\\Eltobgy\\Downloads\\emails\\spam\\00370.54...  spam   \n",
      "C:\\Users\\Eltobgy\\Downloads\\emails\\ham\\00343.816...   ham   \n",
      "C:\\Users\\Eltobgy\\Downloads\\emails\\ham\\00238.dab...   ham   \n",
      "C:\\Users\\Eltobgy\\Downloads\\emails\\spam\\00465.ca...  spam   \n",
      "C:\\Users\\Eltobgy\\Downloads\\emails\\spam\\00439.6f...  spam   \n",
      "C:\\Users\\Eltobgy\\Downloads\\emails\\ham\\01473.1b1...   ham   \n",
      "C:\\Users\\Eltobgy\\Downloads\\emails\\ham\\00530.1a0...   ham   \n",
      "...                                                  ...   \n",
      "C:\\Users\\Eltobgy\\Downloads\\emails\\ham\\01907.e3d...   ham   \n",
      "C:\\Users\\Eltobgy\\Downloads\\emails\\ham\\00778.d83...   ham   \n",
      "C:\\Users\\Eltobgy\\Downloads\\emails\\ham\\01748.69d...   ham   \n",
      "C:\\Users\\Eltobgy\\Downloads\\emails\\ham\\01139.12d...   ham   \n",
      "C:\\Users\\Eltobgy\\Downloads\\emails\\spam\\00469.ee...  spam   \n",
      "C:\\Users\\Eltobgy\\Downloads\\emails\\ham\\00687.a04...   ham   \n",
      "C:\\Users\\Eltobgy\\Downloads\\emails\\ham\\00391.57f...   ham   \n",
      "C:\\Users\\Eltobgy\\Downloads\\emails\\ham\\01317.554...   ham   \n",
      "C:\\Users\\Eltobgy\\Downloads\\emails\\ham\\01716.8e1...   ham   \n",
      "C:\\Users\\Eltobgy\\Downloads\\emails\\ham\\01161.25f...   ham   \n",
      "C:\\Users\\Eltobgy\\Downloads\\emails\\ham\\00616.111...   ham   \n",
      "C:\\Users\\Eltobgy\\Downloads\\emails\\ham\\00741.033...   ham   \n",
      "C:\\Users\\Eltobgy\\Downloads\\emails\\ham\\00270.d0a...   ham   \n",
      "C:\\Users\\Eltobgy\\Downloads\\emails\\ham\\00894.5b2...   ham   \n",
      "C:\\Users\\Eltobgy\\Downloads\\emails\\ham\\01025.11e...   ham   \n",
      "C:\\Users\\Eltobgy\\Downloads\\emails\\spam\\00179.21...  spam   \n",
      "C:\\Users\\Eltobgy\\Downloads\\emails\\ham\\02037.e8c...   ham   \n",
      "C:\\Users\\Eltobgy\\Downloads\\emails\\ham\\01145.428...   ham   \n",
      "C:\\Users\\Eltobgy\\Downloads\\emails\\ham\\01944.246...   ham   \n",
      "C:\\Users\\Eltobgy\\Downloads\\emails\\ham\\01033.d64...   ham   \n",
      "C:\\Users\\Eltobgy\\Downloads\\emails\\ham\\02168.755...   ham   \n",
      "C:\\Users\\Eltobgy\\Downloads\\emails\\ham\\02355.72b...   ham   \n",
      "C:\\Users\\Eltobgy\\Downloads\\emails\\ham\\01606.cf1...   ham   \n",
      "C:\\Users\\Eltobgy\\Downloads\\emails\\spam\\00141.c3...  spam   \n",
      "C:\\Users\\Eltobgy\\Downloads\\emails\\spam\\00396.6f...  spam   \n",
      "C:\\Users\\Eltobgy\\Downloads\\emails\\spam\\00394.cc...  spam   \n",
      "C:\\Users\\Eltobgy\\Downloads\\emails\\spam\\00064.65...  spam   \n",
      "C:\\Users\\Eltobgy\\Downloads\\emails\\ham\\01622.91f...   ham   \n",
      "C:\\Users\\Eltobgy\\Downloads\\emails\\ham\\02453.ca2...   ham   \n",
      "C:\\Users\\Eltobgy\\Downloads\\emails\\ham\\00932.659...   ham   \n",
      "\n",
      "                                                                                              message  \n",
      "C:\\Users\\Eltobgy\\Downloads\\emails\\ham\\02055.80f...  URL: http://www.askbjoernhansen.com/archives/2...  \n",
      "C:\\Users\\Eltobgy\\Downloads\\emails\\ham\\00263.6be...  So, given the apparent commonality of these oc...  \n",
      "C:\\Users\\Eltobgy\\Downloads\\emails\\spam\\00033.9b...  This is the bottom line.  If you can GIVE AWAY...  \n",
      "C:\\Users\\Eltobgy\\Downloads\\emails\\ham\\01566.d38...  Shouldn't there be a w, somewhere in tehre?  S...  \n",
      "C:\\Users\\Eltobgy\\Downloads\\emails\\ham\\02393.fd8...  URL: http://www.newsisfree.com/click/-2,867792...  \n",
      "C:\\Users\\Eltobgy\\Downloads\\emails\\ham\\02062.c7e...  URL: http://www.newsisfree.com/click/-1,838113...  \n",
      "C:\\Users\\Eltobgy\\Downloads\\emails\\spam\\00413.28...  You have been removed from our list.\\n\\nYou wi...  \n",
      "C:\\Users\\Eltobgy\\Downloads\\emails\\ham\\02261.cb1...  URL: http://www.newsisfree.com/click/-4,851992...  \n",
      "C:\\Users\\Eltobgy\\Downloads\\emails\\spam\\00432.40...  FROM: KONE BAKAR\\n\\nTEL: (+225) 0771 1719.  \\n...  \n",
      "C:\\Users\\Eltobgy\\Downloads\\emails\\ham\\01990.39a...  URL: http://www.mozillazine.org/weblogs/hyatt/...  \n",
      "C:\\Users\\Eltobgy\\Downloads\\emails\\spam\\00313.fa...  PGh0bWw+DQo8aGVhZD4NCjxtZXRhIGh0dHAtZXF1aXY9Ik...  \n",
      "C:\\Users\\Eltobgy\\Downloads\\emails\\spam\\00251.6b...  <html>\\n\\n\\n\\n<head>\\n\\n<meta http-equiv=3D\"Co...  \n",
      "C:\\Users\\Eltobgy\\Downloads\\emails\\ham\\00900.04d...  see my first line: I READ THE LINKS.  brickbat...  \n",
      "C:\\Users\\Eltobgy\\Downloads\\emails\\ham\\00886.6d7...  \\n\\nDon't know much about eRoom - but there is...  \n",
      "C:\\Users\\Eltobgy\\Downloads\\emails\\ham\\00766.9ac...  This situation wouldn't have happened in the f...  \n",
      "C:\\Users\\Eltobgy\\Downloads\\emails\\ham\\00658.b99...  What I meant was that neither he nor anyone el...  \n",
      "C:\\Users\\Eltobgy\\Downloads\\emails\\ham\\02400.e03...  URL: http://boingboing.net/#85541049\\n\\nDate: ...  \n",
      "C:\\Users\\Eltobgy\\Downloads\\emails\\ham\\01623.e4e...  --2+N3zU4ZlskbnZaJ\\n\\nContent-Type: text/plain...  \n",
      "C:\\Users\\Eltobgy\\Downloads\\emails\\spam\\00345.61...  <html>\\n\\n<head>\\n\\n<title>mailv07a.gif</title...  \n",
      "C:\\Users\\Eltobgy\\Downloads\\emails\\ham\\01514.503...  Update of /cvsroot/spamassassin/spamassassin/t...  \n",
      "C:\\Users\\Eltobgy\\Downloads\\emails\\ham\\01166.8ab...  Just got this ... I was just reading mail, but...  \n",
      "C:\\Users\\Eltobgy\\Downloads\\emails\\ham\\02182.eca...  URL: http://boingboing.net/#85513605\\n\\nDate: ...  \n",
      "C:\\Users\\Eltobgy\\Downloads\\emails\\ham\\01455.6f5...  >>>>> \"CW\" == Carlo Wood <carlo@alinoe.com> wr...  \n",
      "C:\\Users\\Eltobgy\\Downloads\\emails\\spam\\00370.54...  ------=_NextPart_000_00C6_24D75C3A.C0588C07\\n\\...  \n",
      "C:\\Users\\Eltobgy\\Downloads\\emails\\ham\\00343.816...  \\n\\nUW Email Robot said:\\n\\n\\n\\n> What is MIME...  \n",
      "C:\\Users\\Eltobgy\\Downloads\\emails\\ham\\00238.dab...  Martin Adamson wrote:>>And we know how unbiase...  \n",
      "C:\\Users\\Eltobgy\\Downloads\\emails\\spam\\00465.ca...  Mr.Vincent Nnaji,\\n\\n Standard Trust Bank Ltd,...  \n",
      "C:\\Users\\Eltobgy\\Downloads\\emails\\spam\\00439.6f...  When America's top companies compete for your ...  \n",
      "C:\\Users\\Eltobgy\\Downloads\\emails\\ham\\01473.1b1...  \\n\\n--Fnm8lRGFTVS/3GuM\\n\\nContent-Type: text/p...  \n",
      "C:\\Users\\Eltobgy\\Downloads\\emails\\ham\\00530.1a0...  Chris Haun wrote:\\n\\n> \\n\\n> We would need som...  \n",
      "...                                                                                               ...  \n",
      "C:\\Users\\Eltobgy\\Downloads\\emails\\ham\\01907.e3d...  URL: http://scriptingnews.userland.com/backiss...  \n",
      "C:\\Users\\Eltobgy\\Downloads\\emails\\ham\\00778.d83...  Russell Turpin wrote:\\n\\n>Invite her for an af...  \n",
      "C:\\Users\\Eltobgy\\Downloads\\emails\\ham\\01748.69d...  [Tim]\\n\\n> I never used ConfigParser before, b...  \n",
      "C:\\Users\\Eltobgy\\Downloads\\emails\\ham\\01139.12d...  \\n\\n\\n\\n>>>>> On Fri, 27 Sep 2002, \"Paul\" == P...  \n",
      "C:\\Users\\Eltobgy\\Downloads\\emails\\spam\\00469.ee...  Lowest rates available for term life insurance...  \n",
      "C:\\Users\\Eltobgy\\Downloads\\emails\\ham\\00687.a04...  >>>>> \"R\" == R A Hettinga <rah@shipwright.com>...  \n",
      "C:\\Users\\Eltobgy\\Downloads\\emails\\ham\\00391.57f...  What's the trick again to have it default to s...  \n",
      "C:\\Users\\Eltobgy\\Downloads\\emails\\ham\\01317.554...  \\n\\nOn Thursday, August 22, 2002, at 09:36  AM...  \n",
      "C:\\Users\\Eltobgy\\Downloads\\emails\\ham\\01716.8e1...  [Tim]\\n\\n> ...\\n\\n> I'd prefer to strip HTML t...  \n",
      "C:\\Users\\Eltobgy\\Downloads\\emails\\ham\\01161.25f...  \\n\\n\\n\\n\\n\\n> > > > Just cvs up'ed and nowaday...  \n",
      "C:\\Users\\Eltobgy\\Downloads\\emails\\ham\\00616.111...  Pity.  Reading that woman's ad and knowing Roh...  \n",
      "C:\\Users\\Eltobgy\\Downloads\\emails\\ham\\00741.033...  SF Weekly:\\n\\n>Nothing's more enticing than an...  \n",
      "C:\\Users\\Eltobgy\\Downloads\\emails\\ham\\00270.d0a...  zzzz@spamassassin.taint.org (Justin Mason) wri...  \n",
      "C:\\Users\\Eltobgy\\Downloads\\emails\\ham\\00894.5b2...  \\n\\n\\n\\nHijacker High (8/30) \\n\\nDalal Mughrab...  \n",
      "C:\\Users\\Eltobgy\\Downloads\\emails\\ham\\01025.11e...  > From: Tony Nugent <tony@linuxworks.com.au>\\n...  \n",
      "C:\\Users\\Eltobgy\\Downloads\\emails\\spam\\00179.21...  iieo\\n\\n<html>\\n\\n<head>\\n\\n<title>Mortgage co...  \n",
      "C:\\Users\\Eltobgy\\Downloads\\emails\\ham\\02037.e8c...  URL: http://www.newsisfree.com/click/-0,835789...  \n",
      "C:\\Users\\Eltobgy\\Downloads\\emails\\ham\\01145.428...      Date:        Mon, 30 Sep 2002 14:53:33 -05...  \n",
      "C:\\Users\\Eltobgy\\Downloads\\emails\\ham\\01944.246...  URL: http://www.newsisfree.com/click/-4,826803...  \n",
      "C:\\Users\\Eltobgy\\Downloads\\emails\\ham\\01033.d64...  Halloechen!\\n\\n\\n\\nOn Dienstag, 27. August 200...  \n",
      "C:\\Users\\Eltobgy\\Downloads\\emails\\ham\\02168.755...  URL: http://www.newsisfree.com/click/-2,842319...  \n",
      "C:\\Users\\Eltobgy\\Downloads\\emails\\ham\\02355.72b...  URL: http://boingboing.net/#85534316\\n\\nDate: ...  \n",
      "C:\\Users\\Eltobgy\\Downloads\\emails\\ham\\01606.cf1...  If you examine the log further, you'll see deb...  \n",
      "C:\\Users\\Eltobgy\\Downloads\\emails\\spam\\00141.c3...  Dear Sir/Madam,\\n\\n\\n\\nMy name is Petr Stanek ...  \n",
      "C:\\Users\\Eltobgy\\Downloads\\emails\\spam\\00396.6f...  <html>\\n\\n\\n\\n<head>\\n\\n<meta http-equiv=3D\"Co...  \n",
      "C:\\Users\\Eltobgy\\Downloads\\emails\\spam\\00394.cc...  Hallo,\\n\\n\\n\\nWir haben uns schon ziemlich lan...  \n",
      "C:\\Users\\Eltobgy\\Downloads\\emails\\spam\\00064.65...  Market Internet Access \\n\\n\\n\\nNo Investment N...  \n",
      "C:\\Users\\Eltobgy\\Downloads\\emails\\ham\\01622.91f...  the only way to insure a safe key is to use al...  \n",
      "C:\\Users\\Eltobgy\\Downloads\\emails\\ham\\02453.ca2...  > Well, you might be successful too if Arthur ...  \n",
      "C:\\Users\\Eltobgy\\Downloads\\emails\\ham\\00932.659...  \\n\\n> From: fork-admin@xent.com [mailto:fork-a...  \n",
      "\n",
      "[2400 rows x 2 columns]\n"
     ]
    }
   ],
   "source": [
    "print(train)"
   ]
  },
  {
   "cell_type": "code",
   "execution_count": 12,
   "metadata": {
    "collapsed": false
   },
   "outputs": [
    {
     "data": {
      "text/plain": [
       "MultinomialNB(alpha=1.0, class_prior=None, fit_prior=True)"
      ]
     },
     "execution_count": 12,
     "metadata": {},
     "output_type": "execute_result"
    }
   ],
   "source": [
    "vectorizer = CountVectorizer()\n",
    "\n",
    "counts = vectorizer.fit_transform(train['message'].values)\n",
    "classifier = MultinomialNB()\n",
    "targets = train['class'].values\n",
    "classifier.fit(counts, targets)"
   ]
  },
  {
   "cell_type": "code",
   "execution_count": 13,
   "metadata": {
    "collapsed": false
   },
   "outputs": [],
   "source": [
    "testing_set = vectorizer.transform(test['message'].values)\n",
    "predictions = classifier.predict(testing_set)"
   ]
  },
  {
   "cell_type": "code",
   "execution_count": 14,
   "metadata": {
    "collapsed": false
   },
   "outputs": [
    {
     "data": {
      "text/plain": [
       "array(['spam', 'spam', 'ham', 'ham', 'spam', 'ham', 'spam', 'spam', 'spam',\n",
       "       'ham', 'spam', 'spam', 'ham', 'spam', 'spam', 'ham', 'spam', 'spam',\n",
       "       'spam', 'spam', 'spam', 'spam', 'spam', 'spam', 'spam', 'spam',\n",
       "       'spam', 'spam', 'ham', 'spam', 'spam', 'ham', 'ham', 'spam', 'ham',\n",
       "       'spam', 'spam', 'spam', 'spam', 'spam', 'spam', 'ham', 'spam',\n",
       "       'spam', 'spam', 'ham', 'spam', 'ham', 'ham', 'ham', 'ham', 'ham',\n",
       "       'spam', 'spam', 'spam', 'spam', 'ham', 'spam', 'spam', 'spam',\n",
       "       'ham', 'spam', 'ham', 'spam', 'spam', 'spam', 'ham', 'ham', 'spam',\n",
       "       'ham', 'ham', 'spam', 'ham', 'spam', 'spam', 'ham', 'ham', 'spam',\n",
       "       'spam', 'spam', 'spam', 'spam', 'spam', 'ham', 'spam', 'ham', 'ham',\n",
       "       'spam', 'spam', 'ham', 'spam', 'ham', 'spam', 'spam', 'spam',\n",
       "       'spam', 'ham', 'spam', 'ham', 'spam', 'ham', 'ham', 'ham', 'ham',\n",
       "       'ham', 'ham', 'ham', 'ham', 'ham', 'ham', 'ham', 'ham', 'ham',\n",
       "       'ham', 'ham', 'ham', 'ham', 'ham', 'ham', 'ham', 'ham', 'ham',\n",
       "       'ham', 'ham', 'ham', 'ham', 'ham', 'ham', 'ham', 'ham', 'ham',\n",
       "       'ham', 'ham', 'ham', 'ham', 'ham', 'ham', 'ham', 'ham', 'ham',\n",
       "       'ham', 'ham', 'ham', 'ham', 'ham', 'ham', 'ham', 'ham', 'ham',\n",
       "       'ham', 'ham', 'ham', 'ham', 'ham', 'ham', 'ham', 'ham', 'ham',\n",
       "       'ham', 'ham', 'ham', 'ham', 'ham', 'ham', 'ham', 'ham', 'ham',\n",
       "       'ham', 'ham', 'ham', 'ham', 'ham', 'ham', 'ham', 'ham', 'ham',\n",
       "       'ham', 'ham', 'ham', 'ham', 'ham', 'ham', 'ham', 'ham', 'ham',\n",
       "       'ham', 'ham', 'ham', 'ham', 'ham', 'ham', 'ham', 'ham', 'ham',\n",
       "       'ham', 'ham', 'ham', 'ham', 'ham', 'ham', 'ham', 'ham', 'ham',\n",
       "       'ham', 'ham', 'ham', 'ham', 'ham', 'ham', 'ham', 'ham', 'ham',\n",
       "       'ham', 'ham', 'ham', 'ham', 'ham', 'ham', 'ham', 'ham', 'ham',\n",
       "       'ham', 'ham', 'ham', 'ham', 'ham', 'ham', 'ham', 'ham', 'ham',\n",
       "       'ham', 'ham', 'ham', 'ham', 'ham', 'ham', 'ham', 'ham', 'ham',\n",
       "       'ham', 'ham', 'ham', 'ham', 'ham', 'ham', 'ham', 'ham', 'ham',\n",
       "       'ham', 'ham', 'ham', 'ham', 'ham', 'ham', 'ham', 'ham', 'ham',\n",
       "       'ham', 'ham', 'ham', 'ham', 'ham', 'ham', 'ham', 'ham', 'ham',\n",
       "       'ham', 'ham', 'ham', 'ham', 'ham', 'ham', 'ham', 'ham', 'ham',\n",
       "       'ham', 'ham', 'ham', 'ham', 'ham', 'ham', 'ham', 'ham', 'ham',\n",
       "       'ham', 'ham', 'ham', 'ham', 'ham', 'ham', 'ham', 'ham', 'ham',\n",
       "       'ham', 'ham', 'ham', 'ham', 'ham', 'ham', 'ham', 'ham', 'ham',\n",
       "       'ham', 'ham', 'ham', 'ham', 'ham', 'ham', 'ham', 'ham', 'ham',\n",
       "       'ham', 'ham', 'ham', 'ham', 'ham', 'ham', 'ham', 'ham', 'ham',\n",
       "       'ham', 'ham', 'ham', 'ham', 'ham', 'ham', 'ham', 'ham', 'ham',\n",
       "       'ham', 'ham', 'ham', 'ham', 'ham', 'ham', 'ham', 'ham', 'ham',\n",
       "       'ham', 'ham', 'ham', 'ham', 'ham', 'ham', 'ham', 'ham', 'ham',\n",
       "       'ham', 'ham', 'ham', 'ham', 'ham', 'ham', 'ham', 'ham', 'ham',\n",
       "       'ham', 'ham', 'ham', 'ham', 'ham', 'ham', 'ham', 'ham', 'ham',\n",
       "       'ham', 'ham', 'ham', 'ham', 'ham', 'ham', 'ham', 'ham', 'ham',\n",
       "       'ham', 'ham', 'ham', 'ham', 'ham', 'ham', 'ham', 'ham', 'ham',\n",
       "       'ham', 'ham', 'ham', 'ham', 'ham', 'ham', 'ham', 'spam', 'ham',\n",
       "       'ham', 'ham', 'ham', 'ham', 'ham', 'ham', 'ham', 'ham', 'ham',\n",
       "       'ham', 'ham', 'ham', 'ham', 'ham', 'ham', 'ham', 'ham', 'ham',\n",
       "       'ham', 'ham', 'ham', 'ham', 'ham', 'ham', 'ham', 'ham', 'ham',\n",
       "       'ham', 'ham', 'ham', 'ham', 'ham', 'ham', 'ham', 'ham', 'ham',\n",
       "       'ham', 'ham', 'ham', 'ham', 'ham', 'ham', 'ham', 'ham', 'ham',\n",
       "       'ham', 'ham', 'ham', 'ham', 'ham', 'ham', 'ham', 'ham', 'ham',\n",
       "       'ham', 'ham', 'ham', 'ham', 'ham', 'ham', 'ham', 'ham', 'ham',\n",
       "       'ham', 'ham', 'ham', 'ham', 'ham', 'ham', 'ham', 'ham', 'ham',\n",
       "       'ham', 'ham', 'ham', 'ham', 'ham', 'ham', 'ham', 'ham', 'ham',\n",
       "       'ham', 'ham', 'ham', 'ham', 'ham', 'ham', 'ham', 'ham', 'ham',\n",
       "       'ham', 'ham', 'ham', 'ham', 'ham', 'ham', 'ham', 'ham', 'ham',\n",
       "       'ham', 'ham', 'ham', 'ham', 'ham', 'ham', 'ham', 'ham', 'ham',\n",
       "       'ham', 'ham', 'ham', 'ham', 'ham', 'ham', 'ham', 'ham', 'ham',\n",
       "       'ham', 'ham', 'ham', 'ham', 'ham', 'ham', 'ham', 'ham', 'ham',\n",
       "       'ham', 'ham', 'ham', 'ham', 'ham', 'ham', 'ham', 'ham', 'ham',\n",
       "       'ham', 'ham', 'ham', 'ham', 'ham', 'ham', 'ham', 'ham', 'ham',\n",
       "       'ham', 'ham', 'ham', 'ham', 'ham', 'ham', 'ham', 'ham', 'ham',\n",
       "       'ham', 'ham', 'ham', 'ham', 'ham', 'ham', 'ham', 'ham', 'ham',\n",
       "       'ham', 'ham', 'ham', 'ham', 'ham', 'ham', 'ham', 'ham', 'ham',\n",
       "       'ham', 'ham', 'ham', 'ham', 'ham', 'ham', 'ham', 'ham', 'ham',\n",
       "       'ham', 'ham', 'ham', 'ham', 'ham', 'ham', 'ham', 'ham', 'ham',\n",
       "       'ham', 'ham', 'ham', 'ham', 'ham', 'ham', 'ham', 'ham', 'ham',\n",
       "       'ham', 'ham', 'ham', 'ham', 'ham', 'ham', 'ham', 'ham', 'ham', 'ham'],\n",
       "      dtype='<U4')"
      ]
     },
     "execution_count": 14,
     "metadata": {},
     "output_type": "execute_result"
    }
   ],
   "source": [
    "predictions"
   ]
  },
  {
   "cell_type": "code",
   "execution_count": null,
   "metadata": {
    "collapsed": true
   },
   "outputs": [],
   "source": []
  }
 ],
 "metadata": {
  "kernelspec": {
   "display_name": "Python 3",
   "language": "python",
   "name": "python3"
  },
  "language_info": {
   "codemirror_mode": {
    "name": "ipython",
    "version": 3
   },
   "file_extension": ".py",
   "mimetype": "text/x-python",
   "name": "python",
   "nbconvert_exporter": "python",
   "pygments_lexer": "ipython3",
   "version": "3.5.2"
  }
 },
 "nbformat": 4,
 "nbformat_minor": 0
}
